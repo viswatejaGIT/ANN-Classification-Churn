{
 "cells": [
  {
   "cell_type": "code",
   "execution_count": 30,
   "metadata": {},
   "outputs": [],
   "source": [
    "import tensorflow as tf \n",
    "from tensorflow.keras.models import load_model\n",
    "import pickle\n",
    "import pandas as pd\n",
    "import numpy as np"
   ]
  },
  {
   "cell_type": "code",
   "execution_count": 31,
   "metadata": {},
   "outputs": [
    {
     "name": "stderr",
     "output_type": "stream",
     "text": [
      "WARNING:absl:Compiled the loaded model, but the compiled metrics have yet to be built. `model.compile_metrics` will be empty until you train or evaluate the model.\n"
     ]
    }
   ],
   "source": [
    "# load pkl files of trained models,onehot and scalar\n",
    "model = load_model('model.h5')\n",
    "\n",
    "# load encoder,onehot and scalar\n",
    "with open('onehot_encoder_geo.pkl','rb') as file:\n",
    "    onehot_encoder_geo = pickle.load(file)\n",
    "\n",
    "with open('label_encoder_gender.pkl','rb') as file:\n",
    "    label_encoder_gender = pickle.load(file)\n",
    "\n",
    "with open('scaler.pkl','rb') as file:\n",
    "    scaler = pickle.load(file)\n"
   ]
  },
  {
   "cell_type": "code",
   "execution_count": 32,
   "metadata": {},
   "outputs": [],
   "source": [
    "#example input for prediction\n",
    "\n",
    "input_data = {\n",
    "    'CreditScore': 1000,\n",
    "    'Geography': 'France',\n",
    "    'Gender':'Male',\n",
    "    'Age':40,\n",
    "    'Tenure':3,\n",
    "    'Balance':600000,\n",
    "    'NumOfProducts':2,\n",
    "    'HasCrCard':1,\n",
    "    'IsActiveMember':1,\n",
    "    'EstimatedSalary':500000\n",
    "}\n",
    "\n",
    "# we have 2 catogorical values to encode - Geography and Gender"
   ]
  },
  {
   "cell_type": "code",
   "execution_count": 33,
   "metadata": {},
   "outputs": [
    {
     "name": "stderr",
     "output_type": "stream",
     "text": [
      "C:\\Users\\ekupvis\\AppData\\Roaming\\Python\\Python312\\site-packages\\sklearn\\base.py:486: UserWarning: X has feature names, but OneHotEncoder was fitted without feature names\n",
      "  warnings.warn(\n"
     ]
    }
   ],
   "source": [
    "# Convert input data into a DataFrame\n",
    "input_df = pd.DataFrame([input_data])\n",
    "\n",
    "# Encode the 'Gender' column using LabelEncoder\n",
    "input_df['Gender'] = label_encoder_gender.transform(input_df['Gender'])\n",
    "\n",
    "# Encode 'Geography' column using OneHotEncoder\n",
    "geo_encoded = onehot_encoder_geo.transform(input_df[['Geography']]).toarray()\n",
    "\n",
    "# SCreate a DataFrame for the encoded 'Geography'\n",
    "geo_columns = onehot_encoder_geo.get_feature_names_out(['Geography'])"
   ]
  },
  {
   "cell_type": "code",
   "execution_count": 34,
   "metadata": {},
   "outputs": [],
   "source": [
    "# Combine all processed features\n",
    "input_df = pd.concat([input_df.drop('Geography', axis=1), geo_encoded_df], axis=1)"
   ]
  },
  {
   "cell_type": "code",
   "execution_count": 35,
   "metadata": {},
   "outputs": [
    {
     "name": "stdout",
     "output_type": "stream",
     "text": [
      "\u001b[1m1/1\u001b[0m \u001b[32m━━━━━━━━━━━━━━━━━━━━\u001b[0m\u001b[37m\u001b[0m \u001b[1m0s\u001b[0m 143ms/step\n"
     ]
    },
    {
     "data": {
      "text/plain": [
       "array([[0.13003024]], dtype=float32)"
      ]
     },
     "execution_count": 35,
     "metadata": {},
     "output_type": "execute_result"
    }
   ],
   "source": [
    "# Step 6: Scale the input data\n",
    "scaled_input = scaler.transform(input_df)\n",
    "\n",
    "# Step 7: Predict the output using the model\n",
    "prediction = model.predict(scaled_input)\n",
    "prediction"
   ]
  },
  {
   "cell_type": "code",
   "execution_count": 36,
   "metadata": {},
   "outputs": [
    {
     "name": "stdout",
     "output_type": "stream",
     "text": [
      "Prediction (Probability of Exit): 0.13003024\n",
      "The customer is not likely to exit.\n"
     ]
    }
   ],
   "source": [
    "# Display the prediction\n",
    "print(\"Prediction (Probability of Exit):\", prediction[0][0])\n",
    "if prediction[0][0] >= 0.5:\n",
    "    print(\"The customer is likely to exit.\")\n",
    "else:\n",
    "    print(\"The customer is not likely to exit.\")"
   ]
  },
  {
   "cell_type": "code",
   "execution_count": null,
   "metadata": {},
   "outputs": [],
   "source": []
  },
  {
   "cell_type": "code",
   "execution_count": null,
   "metadata": {},
   "outputs": [],
   "source": []
  },
  {
   "cell_type": "code",
   "execution_count": null,
   "metadata": {},
   "outputs": [],
   "source": []
  }
 ],
 "metadata": {
  "kernelspec": {
   "display_name": "Python 3",
   "language": "python",
   "name": "python3"
  },
  "language_info": {
   "codemirror_mode": {
    "name": "ipython",
    "version": 3
   },
   "file_extension": ".py",
   "mimetype": "text/x-python",
   "name": "python",
   "nbconvert_exporter": "python",
   "pygments_lexer": "ipython3",
   "version": "3.12.2"
  }
 },
 "nbformat": 4,
 "nbformat_minor": 2
}
